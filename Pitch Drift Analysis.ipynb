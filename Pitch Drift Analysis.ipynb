{
 "cells": [
  {
   "cell_type": "code",
   "execution_count": 3,
   "metadata": {
    "collapsed": false
   },
   "outputs": [],
   "source": [
    "%matplotlib inline\n",
    "import matplotlib.pyplot as plt\n",
    "import numpy as np\n",
    "import scipy\n",
    "import time"
   ]
  },
  {
   "cell_type": "code",
   "execution_count": null,
   "metadata": {
    "collapsed": true
   },
   "outputs": [],
   "source": [
    "# Generate the archiver plot URL\n",
    "\n",
    "def ArchiverURL(PV, WindowSize, End=time.now())\n",
    "        \n",
    "        plot_time_length = self.time_delta_converter( alrm.plot_size, alrm.plot_unit)\n",
    "        startTime = (timezone.now() - plot_time_length).replace(microsecond=0,tzinfo=None).isoformat().replace(\":\",\"%3A\") + '.000Z'\n",
    "        endTime = timezone.now().replace(microsecond=0,tzinfo=None).isoformat().replace(\":\",\"%3A\") + '.000Z'\n",
    "        \n",
    "        urlDict = { 'pv': str(PV).replace(':', '%3A'),\n",
    "                   'root':'http://pswww.slac.stanford.edu',\n",
    "                   'currentRoot':'https://pswww.slac.stanford.edu',\n",
    "                   'startTime': startTime,\n",
    "                   'endTime':   endTime,\n",
    "                   'interval':  '600'}\n",
    "        archiverURL = \"{root}/pscaa01/retrieval/data/getData.json?pv={pv}&from={startTime}&to={endTime}\".format(**urlDict)\n",
    "        \n",
    "        #print 'archiverURL ' + archiverURL\n",
    "        print archiverURL\n",
    "        currentArchiverURL = \"{currentRoot}/apps/EpicsViewer?pv1={pv}&auto={interval}\".format(**urlDict)\n",
    "        # retrieve the archiver data\n",
    "        urlExceptionStr = ''\n",
    "        try:\n",
    "            #raise urllib2.URLError(\"a\")\n",
    "            plotReq = urllib2.urlopen(archiverURL, timeout=5)\n",
    "        except urllib2.URLError:\n",
    "            urlExceptionStr = 'URL error'\n",
    "            print 'URL Error'\n",
    "        else:\n",
    "            #load the data into pandas object\n",
    "            "
   ]
  }
 ],
 "metadata": {
  "kernelspec": {
   "display_name": "Python 2",
   "language": "python",
   "name": "python2"
  },
  "language_info": {
   "codemirror_mode": {
    "name": "ipython",
    "version": 2
   },
   "file_extension": ".py",
   "mimetype": "text/x-python",
   "name": "python",
   "nbconvert_exporter": "python",
   "pygments_lexer": "ipython2",
   "version": "2.7.13"
  }
 },
 "nbformat": 4,
 "nbformat_minor": 2
}
